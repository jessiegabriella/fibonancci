{
  "nbformat": 4,
  "nbformat_minor": 0,
  "metadata": {
    "colab": {
      "name": "Untitled8.ipynb",
      "provenance": [],
      "collapsed_sections": []
    },
    "kernelspec": {
      "name": "python3",
      "display_name": "Python 3"
    }
  },
  "cells": [
    {
      "cell_type": "code",
      "metadata": {
        "id": "u_6NYPtnp5fL",
        "colab_type": "code",
        "colab": {
          "base_uri": "https://localhost:8080/",
          "height": 52
        },
        "outputId": "a509653d-17d6-4ed3-8d3c-727269ad754f"
      },
      "source": [
        "def Fibo(batas):\n",
        "  a,b,c = 0,1,0\n",
        "  \n",
        "  for i in range(batas):\n",
        "    print(a,'',end='')\n",
        "    c = a+b\n",
        "    a = b\n",
        "    b = c\n",
        "batasbil = int(input('Masukkan batas bilangannya : '))\n",
        "Fibo(batasbil)"
      ],
      "execution_count": 1,
      "outputs": [
        {
          "output_type": "stream",
          "text": [
            "Masukkan batas bilangannya : 5\n",
            "0 1 1 2 3 "
          ],
          "name": "stdout"
        }
      ]
    },
    {
      "cell_type": "code",
      "metadata": {
        "id": "cyQf51jKqdbl",
        "colab_type": "code",
        "colab": {}
      },
      "source": [
        ""
      ],
      "execution_count": 0,
      "outputs": []
    }
  ]
}